{
 "cells": [
  {
   "cell_type": "code",
   "execution_count": 1,
   "metadata": {},
   "outputs": [
    {
     "name": "stdout",
     "output_type": "stream",
     "text": [
      "train.tsv already downloaded in data\\train.tsv\n",
      "test.tsv already downloaded in data\\test.tsv\n",
      "validation.tsv already downloaded in data\\validation.tsv\n",
      "text_prepare_tests.tsv already downloaded in data\\text_prepare_tests.tsv\n"
     ]
    }
   ],
   "source": [
    "from utils import import_data,read_data\n",
    "\n",
    "import_data()\n"
   ]
  },
  {
   "cell_type": "code",
   "execution_count": 3,
   "metadata": {},
   "outputs": [],
   "source": [
    "train = read_data(r\"data\\train.tsv\")\n",
    "val = read_data(r\"data\\validation.tsv\")\n",
    "test = read_data(r\"data\\test.tsv\",test = True)"
   ]
  },
  {
   "cell_type": "code",
   "execution_count": 4,
   "metadata": {},
   "outputs": [
    {
     "data": {
      "text/plain": [
       "Index(['title', 'tags'], dtype='object')"
      ]
     },
     "execution_count": 4,
     "metadata": {},
     "output_type": "execute_result"
    }
   ],
   "source": [
    "train.columns"
   ]
  },
  {
   "cell_type": "code",
   "execution_count": 6,
   "metadata": {},
   "outputs": [],
   "source": [
    "x_train , y_train = train['title'].values , train['tags'].values\n",
    "x_val , y_val = val['title'].values , val['tags'].values\n",
    "x_test = test['title'].values"
   ]
  },
  {
   "cell_type": "code",
   "execution_count": 7,
   "metadata": {},
   "outputs": [
    {
     "data": {
      "text/plain": [
       "array(['Warning: mysql_query() expects parameter 2 to be resource, object given',\n",
       "       \"get click coordinates from <input type='image'> via javascript\",\n",
       "       'How to implement cloud storage for media assets in ZF?', ...,\n",
       "       \"Javascript collection of DOM objects - why can't I reverse with Array.reverse()?\",\n",
       "       'How to exit (escape) a function from for loop inside of it?',\n",
       "       'How to re-ask for input in try catch statement'], dtype=object)"
      ]
     },
     "execution_count": 7,
     "metadata": {},
     "output_type": "execute_result"
    }
   ],
   "source": [
    "x_test"
   ]
  },
  {
   "cell_type": "code",
   "execution_count": 8,
   "metadata": {},
   "outputs": [
    {
     "data": {
      "text/plain": [
       "'c:\\\\Users\\\\Hamza\\\\Documents\\\\project\\\\mlops'"
      ]
     },
     "execution_count": 8,
     "metadata": {},
     "output_type": "execute_result"
    }
   ],
   "source": [
    "import os\n",
    "os.getcwd()"
   ]
  },
  {
   "cell_type": "code",
   "execution_count": 5,
   "metadata": {},
   "outputs": [
    {
     "name": "stderr",
     "output_type": "stream",
     "text": [
      "[nltk_data] Downloading package stopwords to\n",
      "[nltk_data]     C:\\Users\\Hamza\\AppData\\Roaming\\nltk_data...\n",
      "[nltk_data]   Package stopwords is already up-to-date!\n"
     ]
    }
   ],
   "source": [
    "from mzops.data import text_prepare\n",
    "\n",
    "def test_text_prepare():\n",
    "    examples = [\"SQL Server - any equivalent of Excel's CHOOSE function?\",\n",
    "                \"How to free c++ memory vector<int> * arr?\"]\n",
    "    answers = [\"sql server equivalent excels choose function\", \n",
    "               \"free c++ memory vectorint arr\"]\n",
    "    for ex, ans in zip(examples, answers):\n",
    "        assert text_prepare(ex) == ans"
   ]
  },
  {
   "cell_type": "code",
   "execution_count": 6,
   "metadata": {},
   "outputs": [
    {
     "name": "stdout",
     "output_type": "stream",
     "text": [
      "sql server - any equivalent of excel's choose function?\n",
      "sql server - any equivalent of excel's choose function?\n",
      "sql server  any equivalent of excels choose function\n",
      "['sql', 'server', '', 'equivalent', 'excels', 'choose', 'function']\n"
     ]
    },
    {
     "data": {
      "text/plain": [
       "'sql server  equivalent excels choose function'"
      ]
     },
     "execution_count": 6,
     "metadata": {},
     "output_type": "execute_result"
    }
   ],
   "source": [
    "text_prepare(\"SQL Server - any equivalent of Excel's CHOOSE function?\")"
   ]
  },
  {
   "cell_type": "code",
   "execution_count": 7,
   "metadata": {},
   "outputs": [
    {
     "name": "stdout",
     "output_type": "stream",
     "text": [
      "sql server - any equivalent of excel's choose function?\n",
      "sql server - any equivalent of excel's choose function?\n",
      "sql server  any equivalent of excels choose function\n",
      "['sql', 'server', '', 'equivalent', 'excels', 'choose', 'function']\n"
     ]
    },
    {
     "ename": "AssertionError",
     "evalue": "",
     "output_type": "error",
     "traceback": [
      "\u001b[1;31m---------------------------------------------------------------------------\u001b[0m",
      "\u001b[1;31mAssertionError\u001b[0m                            Traceback (most recent call last)",
      "Cell \u001b[1;32mIn [7], line 1\u001b[0m\n\u001b[1;32m----> 1\u001b[0m test_text_prepare()\n",
      "Cell \u001b[1;32mIn [5], line 9\u001b[0m, in \u001b[0;36mtest_text_prepare\u001b[1;34m()\u001b[0m\n\u001b[0;32m      6\u001b[0m answers \u001b[39m=\u001b[39m [\u001b[39m\"\u001b[39m\u001b[39msql server equivalent excels choose function\u001b[39m\u001b[39m\"\u001b[39m, \n\u001b[0;32m      7\u001b[0m            \u001b[39m\"\u001b[39m\u001b[39mfree c++ memory vectorint arr\u001b[39m\u001b[39m\"\u001b[39m]\n\u001b[0;32m      8\u001b[0m \u001b[39mfor\u001b[39;00m ex, ans \u001b[39min\u001b[39;00m \u001b[39mzip\u001b[39m(examples, answers):\n\u001b[1;32m----> 9\u001b[0m     \u001b[39massert\u001b[39;00m text_prepare(ex) \u001b[39m==\u001b[39m ans\n",
      "\u001b[1;31mAssertionError\u001b[0m: "
     ]
    }
   ],
   "source": [
    "test_text_prepare()"
   ]
  },
  {
   "cell_type": "code",
   "execution_count": null,
   "metadata": {},
   "outputs": [],
   "source": []
  }
 ],
 "metadata": {
  "kernelspec": {
   "display_name": "Python 3.10.7 ('.venv': venv)",
   "language": "python",
   "name": "python3"
  },
  "language_info": {
   "codemirror_mode": {
    "name": "ipython",
    "version": 3
   },
   "file_extension": ".py",
   "mimetype": "text/x-python",
   "name": "python",
   "nbconvert_exporter": "python",
   "pygments_lexer": "ipython3",
   "version": "3.10.7"
  },
  "orig_nbformat": 4,
  "vscode": {
   "interpreter": {
    "hash": "21566bc75c13d72471d8658e008f87aaf025bcc7fec7591ab304b014e6ba1802"
   }
  }
 },
 "nbformat": 4,
 "nbformat_minor": 2
}
